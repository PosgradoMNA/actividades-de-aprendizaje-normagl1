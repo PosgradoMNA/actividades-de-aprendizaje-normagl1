{
  "nbformat": 4,
  "nbformat_minor": 0,
  "metadata": {
    "colab": {
      "provenance": []
    },
    "kernelspec": {
      "name": "python3",
      "display_name": "Python 3"
    },
    "language_info": {
      "name": "python"
    }
  },
  "cells": [
    {
      "cell_type": "markdown",
      "source": [
        "\n",
        "# Anotaciones Módulo 4 Norma Garcia A01228278"
      ],
      "metadata": {
        "id": "D6NFJ2thVywA"
      }
    },
    {
      "cell_type": "markdown",
      "source": [
        "#Reading files with open\n"
      ],
      "metadata": {
        "id": "y28mY_JmVJYB"
      }
    },
    {
      "cell_type": "code",
      "source": [
        "File1=open(\"/resources/data/Example2.txt\")\n",
        "\n",
        "with open(\"Example2.txt\",\"r\") as File1:\n",
        "  file_stuff=File1.read()\n",
        "\n",
        "  print(file_stuff)\n",
        "  print(File1.closed)\n",
        "  print(file_stuff)"
      ],
      "metadata": {
        "id": "1bmO8kRBVPDU"
      },
      "execution_count": null,
      "outputs": []
    },
    {
      "cell_type": "markdown",
      "source": [
        "Writing Files with Open"
      ],
      "metadata": {
        "id": "p9Pb16VpWFlZ"
      }
    },
    {
      "cell_type": "code",
      "source": [
        "with open(\"Example1.txt\",\"r\") as File1:\n",
        "  file_stuff=File1.readlines(16)\n",
        "  print(file_stuff)\n",
        "  file_stuff=File1.readlines(5)\n",
        "  print(file_stuff)\n",
        "  file_stuff=File1.readlines(9)\n",
        "  print(file_stuff)\n",
        "\n",
        "with open(\"Example1.txt\",\"a\") as File1:\n",
        "  #La \"a\" significa append\n",
        "\n",
        "  File1.write(\"This is line C\")\n",
        "  \n",
        "  "
      ],
      "metadata": {
        "id": "kgLOYxrlWI47"
      },
      "execution_count": null,
      "outputs": []
    },
    {
      "cell_type": "markdown",
      "source": [
        "Importing with pandas"
      ],
      "metadata": {
        "id": "VmmKu1dFWqO5"
      }
    },
    {
      "cell_type": "code",
      "source": [
        "import pandas as pd\n",
        "csv_path='file1.csv'\n",
        "df=pd.read_csv(csv_path)"
      ],
      "metadata": {
        "id": "PDoiOxOaXHoi"
      },
      "execution_count": null,
      "outputs": []
    },
    {
      "cell_type": "markdown",
      "source": [
        "Save as CSV"
      ],
      "metadata": {
        "id": "gFrhLYsnXM6L"
      }
    },
    {
      "cell_type": "code",
      "source": [
        "df1.to_csv('new_songes.csv')"
      ],
      "metadata": {
        "id": "iQ6sFpANXOIf"
      },
      "execution_count": null,
      "outputs": []
    }
  ]
}